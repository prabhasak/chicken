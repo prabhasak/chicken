{
 "cells": [
  {
   "cell_type": "code",
   "execution_count": 1,
   "metadata": {},
   "outputs": [],
   "source": [
    "import pandas as pd\n",
    "import numpy as np\n",
    "trajectories=pd.read_csv('trajectories.csv')\n",
    "state=trajectories.values[:,0:5]\n",
    "action=trajectories.values[:,5]"
   ]
  },
  {
   "cell_type": "code",
   "execution_count": 2,
   "metadata": {},
   "outputs": [
    {
     "name": "stderr",
     "output_type": "stream",
     "text": [
      "Using TensorFlow backend.\n"
     ]
    },
    {
     "name": "stdout",
     "output_type": "stream",
     "text": [
      "Epoch 1/30\n",
      "40583/40583 [==============================] - 1s 14us/step - loss: 2.0068 - acc: 0.4934\n",
      "Epoch 2/30\n",
      "40583/40583 [==============================] - 0s 7us/step - loss: 1.4820 - acc: 0.6355\n",
      "Epoch 3/30\n",
      "40583/40583 [==============================] - 0s 8us/step - loss: 1.3626 - acc: 0.6882\n",
      "Epoch 4/30\n",
      "40583/40583 [==============================] - 0s 7us/step - loss: 1.2852 - acc: 0.7259\n",
      "Epoch 5/30\n",
      "40583/40583 [==============================] - 0s 8us/step - loss: 1.2350 - acc: 0.7456\n",
      "Epoch 6/30\n",
      "40583/40583 [==============================] - 0s 7us/step - loss: 1.1813 - acc: 0.7645\n",
      "Epoch 7/30\n",
      "40583/40583 [==============================] - 0s 7us/step - loss: 1.1549 - acc: 0.7711\n",
      "Epoch 8/30\n",
      "40583/40583 [==============================] - 0s 8us/step - loss: 1.1300 - acc: 0.7799\n",
      "Epoch 9/30\n",
      "40583/40583 [==============================] - 0s 8us/step - loss: 1.0985 - acc: 0.7891\n",
      "Epoch 10/30\n",
      "40583/40583 [==============================] - 0s 8us/step - loss: 1.0755 - acc: 0.7949\n",
      "Epoch 11/30\n",
      "40583/40583 [==============================] - 0s 8us/step - loss: 1.0605 - acc: 0.7976\n",
      "Epoch 12/30\n",
      "40583/40583 [==============================] - 0s 8us/step - loss: 1.0416 - acc: 0.8042\n",
      "Epoch 13/30\n",
      "40583/40583 [==============================] - 0s 8us/step - loss: 1.0195 - acc: 0.8123\n",
      "Epoch 14/30\n",
      "40583/40583 [==============================] - 0s 8us/step - loss: 1.0084 - acc: 0.8156\n",
      "Epoch 15/30\n",
      "40583/40583 [==============================] - 0s 8us/step - loss: 0.9987 - acc: 0.8175\n",
      "Epoch 16/30\n",
      "40583/40583 [==============================] - 0s 8us/step - loss: 0.9780 - acc: 0.8240\n",
      "Epoch 17/30\n",
      "40583/40583 [==============================] - 0s 8us/step - loss: 0.9742 - acc: 0.8243\n",
      "Epoch 18/30\n",
      "40583/40583 [==============================] - 0s 8us/step - loss: 0.9587 - acc: 0.8296\n",
      "Epoch 19/30\n",
      "40583/40583 [==============================] - 0s 8us/step - loss: 0.9548 - acc: 0.8329\n",
      "Epoch 20/30\n",
      "40583/40583 [==============================] - 0s 8us/step - loss: 0.9453 - acc: 0.8351\n",
      "Epoch 21/30\n",
      "40583/40583 [==============================] - 0s 8us/step - loss: 0.9382 - acc: 0.8351\n",
      "Epoch 22/30\n",
      "40583/40583 [==============================] - 0s 10us/step - loss: 0.9296 - acc: 0.8401\n",
      "Epoch 23/30\n",
      "40583/40583 [==============================] - 0s 9us/step - loss: 0.9222 - acc: 0.8412\n",
      "Epoch 24/30\n",
      "40583/40583 [==============================] - 0s 7us/step - loss: 0.9160 - acc: 0.8437\n",
      "Epoch 25/30\n",
      "40583/40583 [==============================] - 0s 8us/step - loss: 0.9121 - acc: 0.8462\n",
      "Epoch 26/30\n",
      "40583/40583 [==============================] - 0s 8us/step - loss: 0.9037 - acc: 0.8508\n",
      "Epoch 27/30\n",
      "40583/40583 [==============================] - 0s 8us/step - loss: 0.9045 - acc: 0.8479\n",
      "Epoch 28/30\n",
      "40583/40583 [==============================] - 0s 8us/step - loss: 0.9000 - acc: 0.8511\n",
      "Epoch 29/30\n",
      "40583/40583 [==============================] - 0s 8us/step - loss: 0.8950 - acc: 0.8534\n",
      "Epoch 30/30\n",
      "40583/40583 [==============================] - 0s 9us/step - loss: 0.8942 - acc: 0.8522\n"
     ]
    }
   ],
   "source": [
    "from keras.models import Sequential\n",
    "from keras.layers import Dense\n",
    "from keras.optimizers import Adam\n",
    "from keras.utils.np_utils import to_categorical\n",
    "from keras.models import load_model\n",
    "one_hot_action = to_categorical(action)\n",
    "model=Sequential() \n",
    "model.add(Dense(64, input_shape=(len(state[0]),),activation=\"relu\"))\n",
    "model.add(Dense(64,activation=\"relu\"))\n",
    "model.add(Dense(10,activation=\"softmax\"))\n",
    "model.compile(optimizer='rmsprop',loss='categorical_crossentropy',metrics=['accuracy'])\n",
    "model.fit(state,one_hot_action,epochs=30,batch_size=512)\n",
    "model.save('Bhc.h5') "
   ]
  },
  {
   "cell_type": "code",
   "execution_count": 3,
   "metadata": {},
   "outputs": [
    {
     "name": "stdout",
     "output_type": "stream",
     "text": [
      "Episodes 500\n",
      "Safe_chicken 500\n",
      "Death_toll 0\n",
      "Death_toll % 0.0\n"
     ]
    }
   ],
   "source": [
    "from ped_car_2 import PedestrianEnv\n",
    "env = PedestrianEnv()\n",
    "observation_space=5\n",
    "action_space=10\n",
    "episodes = 500\n",
    "death_toll=0\n",
    "safe_chicken=0\n",
    "done_count=0\n",
    "count=0\n",
    "for e in range(episodes):\n",
    "\tstate=env.reset()\n",
    "\tstate = np.reshape(state, [1, observation_space])\n",
    "\twhile True:\t\n",
    "\t\taction=np.argmax(model.predict(state))\n",
    "\t\taction_1=-1*env.P_velocity_limit+action*(2*(env.P_velocity_limit)/(action_space-1))\n",
    "\t\tstate_next, reward, done = env.step(np.array([action_1]))\n",
    "\t\tstate_next = np.reshape(state_next, [1, observation_space])\n",
    "\t\tstate=state_next   \n",
    "\t\tif done:\n",
    "\t\t\tdone_count+=1\n",
    "\t\t\tif (reward==-10000):\n",
    "\t\t\t\tdeath_toll+=1\n",
    "\t\t\tif (reward==5000):\n",
    "\t\t\t\tsafe_chicken+=1\n",
    "\t\t\tbreak\n",
    "print('Episodes', done_count)\n",
    "print('Safe_chicken',safe_chicken)\n",
    "print('Death_toll '+str(death_toll))\n",
    "print('Death_toll % '+str(death_toll*100/(death_toll+safe_chicken)))"
   ]
  }
 ],
 "metadata": {
  "kernelspec": {
   "display_name": "Python 3",
   "language": "python",
   "name": "python3"
  },
  "language_info": {
   "codemirror_mode": {
    "name": "ipython",
    "version": 3
   },
   "file_extension": ".py",
   "mimetype": "text/x-python",
   "name": "python",
   "nbconvert_exporter": "python",
   "pygments_lexer": "ipython3",
   "version": "3.6.5"
  }
 },
 "nbformat": 4,
 "nbformat_minor": 2
}
