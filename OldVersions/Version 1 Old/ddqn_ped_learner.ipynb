{
 "cells": [
  {
   "cell_type": "code",
   "execution_count": 1,
   "metadata": {},
   "outputs": [
    {
     "name": "stderr",
     "output_type": "stream",
     "text": [
      "Using TensorFlow backend.\n"
     ]
    }
   ],
   "source": [
    "from ped_car_2 import PedestrianEnv\n",
    "import numpy as np\n",
    "from My_DDQN import DDQN\n",
    "import random\n",
    "import matplotlib.pyplot as plt"
   ]
  },
  {
   "cell_type": "code",
   "execution_count": 2,
   "metadata": {},
   "outputs": [],
   "source": [
    "env=PedestrianEnv()\n",
    "observation = env.reset()\n",
    "observation_space=len(observation) #we get the number of parameters in the state\n",
    "action_space=5 #number of discrete velocities pedestrian can take\n",
    "agent=DDQN(observation_space, action_space)\n",
    "episodes=1000"
   ]
  },
  {
   "cell_type": "code",
   "execution_count": null,
   "metadata": {},
   "outputs": [
    {
     "name": "stdout",
     "output_type": "stream",
     "text": [
      "Episode: 0, exploration: 1, score: 4095.5\n",
      "Episode: 1, exploration: 0.995, score: 4187.2\n",
      "Episode: 2, exploration: 0.990025, score: 4174.4\n",
      "Episode: 3, exploration: 0.985074875, score: -10067.90804957848\n",
      "Episode: 4, exploration: 0.9801495006250001, score: 4187.2\n",
      "Episode: 5, exploration: 0.9752487531218751, score: -10155.702053623043\n",
      "Episode: 6, exploration: 0.9703725093562657, score: 3970.3999999999996\n",
      "Episode: 7, exploration: 0.9655206468094844, score: 4068.4\n",
      "Episode: 8, exploration: 0.960693043575437, score: 4174.4\n",
      "Episode: 9, exploration: 0.9558895783575597, score: -10052.151853865547\n",
      "Episode: 10, exploration: 0.9511101304657719, score: 4027.0\n",
      "Episode: 11, exploration: 0.946354579813443, score: -10098.28789568814\n",
      "Episode: 12, exploration: 0.9416228069143757, score: 4040.9\n",
      "Episode: 13, exploration: 0.9369146928798039, score: -10086.257643967743\n",
      "Episode: 14, exploration: 0.9322301194154049, score: 4095.5\n",
      "Episode: 15, exploration: 0.9275689688183278, score: 3998.9\n",
      "Episode: 16, exploration: 0.9229311239742362, score: 3970.3999999999996\n",
      "Episode: 17, exploration: 0.918316468354365, score: 4205.240595920385\n",
      "Episode: 18, exploration: 0.9137248860125932, score: 4135.4\n",
      "Episode: 19, exploration: 0.9091562615825302, score: 3998.9\n",
      "Episode: 20, exploration: 0.9046104802746175, score: 4082.0\n",
      "Episode: 21, exploration: 0.9000874278732445, score: -10202.032030252854\n",
      "Episode: 22, exploration: 0.8955869907338783, score: 4297.9\n",
      "Episode: 23, exploration: 0.8911090557802088, score: 3897.3999999999996\n",
      "Episode: 24, exploration: 0.8866535105013078, score: 4174.4\n",
      "Episode: 25, exploration: 0.8822202429488013, score: 4054.7\n",
      "Episode: 26, exploration: 0.8778091417340573, score: 4108.9\n",
      "Episode: 27, exploration: 0.8734200960253871, score: -10082.233670693211\n",
      "Episode: 28, exploration: 0.8690529955452602, score: 3984.7\n",
      "Episode: 29, exploration: 0.8647077305675338, score: -10189.338998638452\n",
      "Episode: 30, exploration: 0.8603841919146962, score: -10116.356794198675\n",
      "Episode: 31, exploration: 0.8560822709551227, score: 3775.3999999999996\n",
      "Episode: 32, exploration: 0.851801859600347, score: -10049.208821804601\n",
      "Episode: 33, exploration: 0.8475428503023453, score: 4054.7\n",
      "Episode: 34, exploration: 0.8433051360508336, score: 4249.7\n",
      "Episode: 35, exploration: 0.8390886103705794, score: -10099.261156492468\n",
      "Episode: 36, exploration: 0.8348931673187264, score: 4082.0\n",
      "Episode: 37, exploration: 0.8307187014821328, score: 4040.9\n",
      "Episode: 38, exploration: 0.8265651079747222, score: 4161.5\n",
      "Episode: 39, exploration: 0.8224322824348486, score: 4122.2\n"
     ]
    }
   ],
   "source": [
    "reward_list=[0]\n",
    "for e in range(episodes):\n",
    "    episode_reward=0\n",
    "    state=env.reset()\n",
    "    state = np.reshape(state, [1, observation_space])    \n",
    "    while True:\n",
    "        action=agent.act(state)\n",
    "        action_1=action*((env.P_velocity_limit)/(action_space-1))\n",
    "        state_next, reward, terminal = env.step(np.array([action_1]))\n",
    "        episode_reward+=reward\n",
    "        state_next = np.reshape(state_next, [1, observation_space])\n",
    "        agent.add_memory(state, action, reward, state_next, terminal)\n",
    "        state = state_next\n",
    "        if(len(agent.memory)>agent.minibatch_size):\n",
    "            agent.replay()\n",
    "        if terminal:\n",
    "            print (\"Episode: \" + str(e) + \", exploration: \" + str(agent.exploration_rate) + \", score: \" + str(episode_reward))            \n",
    "            agent.target_model_update()\n",
    "            reward_list.append((reward_list[len(reward_list)-1]*e+episode_reward)/(e+1))\n",
    "            break\n",
    "    if agent.exploration_rate>agent.exploration_min:\n",
    "        agent.exploration_rate*=agent.exploration_decay       \n",
    "    "
   ]
  },
  {
   "cell_type": "code",
   "execution_count": null,
   "metadata": {},
   "outputs": [],
   "source": [
    "plt.figure(1)\n",
    "plt.plot(reward_list)\n",
    "plt.show()"
   ]
  },
  {
   "cell_type": "code",
   "execution_count": null,
   "metadata": {},
   "outputs": [],
   "source": [
    "observation = env.reset()\n",
    "death_toll=0\n",
    "safe_chicken=0\n",
    "done_count=0\n",
    "agent.exploration_rate=0\n",
    "for t in range(700): \n",
    "    action = agent.act(state)\n",
    "    action_1=action*((env.P_velocity_limit)/(action_space-1))\n",
    "    observation, reward, done = env.step(np.array([action_1]))          \n",
    "    if done:       \n",
    "        done_count+=1\n",
    "        if (reward==-10000):\n",
    "            death_toll+=1                                              \n",
    "        if (reward==5000):           \n",
    "            safe_chicken+=1        \n",
    "        env.reset()\n",
    "print('Death_toll '+str(death_toll))\n",
    "print('Episodes', done_count)\n",
    "print('Death_toll % '+str(death_toll*100/(done_count)))\n",
    "print('Safe_chicken',safe_chicken)\n",
    "print('Safe_toll % '+str(safe_chicken*100/(done_count)))"
   ]
  },
  {
   "cell_type": "code",
   "execution_count": null,
   "metadata": {},
   "outputs": [],
   "source": [
    "N = 100\n",
    "cumsum, moving_aves = [0], []\n",
    "\n",
    "for i, x in enumerate(reward_list, 1):\n",
    "    cumsum.append(cumsum[i-1] + x)\n",
    "    if i>=N:\n",
    "        moving_ave = (cumsum[i] - cumsum[i-N])/N\n",
    "        #can do stuff with moving_ave here\n",
    "        moving_aves.append(moving_ave)\n",
    "\n",
    "plt.figure(2)\n",
    "plt.plot(moving_aves)\n",
    "plt.show()"
   ]
  }
 ],
 "metadata": {
  "kernelspec": {
   "display_name": "Python 3",
   "language": "python",
   "name": "python3"
  },
  "language_info": {
   "codemirror_mode": {
    "name": "ipython",
    "version": 3
   },
   "file_extension": ".py",
   "mimetype": "text/x-python",
   "name": "python",
   "nbconvert_exporter": "python",
   "pygments_lexer": "ipython3",
   "version": "3.6.6"
  }
 },
 "nbformat": 4,
 "nbformat_minor": 2
}
