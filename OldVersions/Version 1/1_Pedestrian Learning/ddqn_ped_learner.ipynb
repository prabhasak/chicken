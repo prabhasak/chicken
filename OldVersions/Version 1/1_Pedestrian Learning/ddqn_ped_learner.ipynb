{
 "cells": [
  {
   "cell_type": "code",
   "execution_count": null,
   "metadata": {},
   "outputs": [],
   "source": [
    "from ped_car_2 import PedestrianEnv\n",
    "import numpy as np\n",
    "from My_DDQN import DDQN\n",
    "import random\n",
    "import matplotlib.pyplot as plt"
   ]
  },
  {
   "cell_type": "code",
   "execution_count": null,
   "metadata": {},
   "outputs": [],
   "source": [
    "env=PedestrianEnv()\n",
    "observation = env.reset()\n",
    "observation_space=len(observation) #we get the number of parameters in the state\n",
    "action_space=10 #number of discrete velocities pedestrian can take\n",
    "agent=DDQN(observation_space, action_space)\n",
    "episodes=1000"
   ]
  },
  {
   "cell_type": "code",
   "execution_count": null,
   "metadata": {},
   "outputs": [],
   "source": [
    "reward_list=[0]\n",
    "print(agent.gamma)\n",
    "for e in range(episodes):\n",
    "    episode_reward=0\n",
    "    state=env.reset()\n",
    "    state = np.reshape(state, [1, observation_space])    \n",
    "    while True:\n",
    "        action=agent.act(state)        \n",
    "        #action_1=action*((env.P_velocity_limit)/(action_space-1))\n",
    "        action_1=-1*env.P_velocity_limit+action*(2*(env.P_velocity_limit)/(action_space-1))\n",
    "        state_next, reward, terminal = env.step(np.array([action_1]))\n",
    "        episode_reward+=reward\n",
    "        state_next = np.reshape(state_next, [1, observation_space])\n",
    "        agent.add_memory(state, action, reward, state_next, terminal)\n",
    "        if(reward==-10000):            \n",
    "            agent.add_bad_memory(state, action, reward, state_next, terminal)\n",
    "        state = state_next\n",
    "        if(len(agent.memory)>agent.minibatch_size):\n",
    "            agent.replay()\n",
    "        if terminal:\n",
    "            print (\"Episode: \" + str(e) + \", exploration: \" + str(agent.exploration_rate) + \", score: \" + str(episode_reward)+\" ,goal reward: \"+str(reward))            \n",
    "            agent.target_model_update()\n",
    "            reward_list.append((reward_list[len(reward_list)-1]*e+episode_reward)/(e+1))\n",
    "            break\n",
    "    if agent.exploration_rate>agent.exploration_min:\n",
    "        agent.exploration_rate*=agent.exploration_decay       \n",
    "    "
   ]
  },
  {
   "cell_type": "code",
   "execution_count": null,
   "metadata": {},
   "outputs": [],
   "source": [
    "plt.figure(1)\n",
    "plt.plot(reward_list)\n",
    "plt.show()"
   ]
  },
  {
   "cell_type": "code",
   "execution_count": null,
   "metadata": {},
   "outputs": [],
   "source": [
    "state=env.reset()\n",
    "state = np.reshape(state, [1, observation_space])\n",
    "death_toll=0\n",
    "safe_chicken=0\n",
    "done_count=0\n",
    "agent.exploration_rate=0\n",
    "for t in range(50000): \n",
    "    action = agent.act(state)    \n",
    "    action_1=-1*env.P_velocity_limit+action*(2*(env.P_velocity_limit)/(action_space-1))    \n",
    "    observation, reward, done = env.step(np.array([action_1]))          \n",
    "    if done:       \n",
    "        done_count+=1\n",
    "        if (reward==-10000):\n",
    "            death_toll+=1                                              \n",
    "        if (reward==5000):           \n",
    "            safe_chicken+=1        \n",
    "        env.reset()\n",
    "    state = np.reshape(observation, [1, observation_space])\n",
    "    \n",
    "    \n",
    "print('Death_toll '+str(death_toll))\n",
    "print('Episodes', done_count)\n",
    "print('Death_toll % '+str(death_toll*100/(done_count)))\n",
    "print('Safe_chicken',safe_chicken)\n",
    "print('Safe_toll % '+str(safe_chicken*100/(done_count)))"
   ]
  },
  {
   "cell_type": "code",
   "execution_count": null,
   "metadata": {},
   "outputs": [],
   "source": [
    "N = 100\n",
    "cumsum, moving_aves = [0], []\n",
    "\n",
    "for i, x in enumerate(reward_list, 1):\n",
    "    cumsum.append(cumsum[i-1] + x)\n",
    "    if i>=N:\n",
    "        moving_ave = (cumsum[i] - cumsum[i-N])/N\n",
    "        #can do stuff with moving_ave here\n",
    "        moving_aves.append(moving_ave)\n",
    "\n",
    "plt.figure(2)\n",
    "plt.plot(moving_aves)\n",
    "plt.show()"
   ]
  },
  {
   "cell_type": "code",
   "execution_count": null,
   "metadata": {},
   "outputs": [],
   "source": [
    "from keras.models import load_model\n",
    "agent.model.save('ddqn_ped_Learner.h5')"
   ]
  }
 ],
 "metadata": {
  "kernelspec": {
   "display_name": "Python 3",
   "language": "python",
   "name": "python3"
  },
  "language_info": {
   "codemirror_mode": {
    "name": "ipython",
    "version": 3
   },
   "file_extension": ".py",
   "mimetype": "text/x-python",
   "name": "python",
   "nbconvert_exporter": "python",
   "pygments_lexer": "ipython3",
   "version": "3.6.6"
  }
 },
 "nbformat": 4,
 "nbformat_minor": 2
}
